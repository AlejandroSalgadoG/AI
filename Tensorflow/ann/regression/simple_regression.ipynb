{
 "cells": [
  {
   "cell_type": "code",
   "execution_count": null,
   "metadata": {},
   "outputs": [],
   "source": [
    "import pandas as pd\n",
    "import seaborn as sns\n",
    "\n",
    "from sklearn.preprocessing import MinMaxScaler\n",
    "from sklearn.model_selection import train_test_split\n",
    "from sklearn.metrics import mean_absolute_error, mean_squared_error\n",
    "\n",
    "from tensorflow.keras.models import Sequential\n",
    "from tensorflow.keras.layers import Dense, LeakyReLU\n",
    "\n",
    "# from keras.src.models import Sequential\n",
    "# from keras.src.layers import Dense"
   ]
  },
  {
   "cell_type": "code",
   "execution_count": null,
   "metadata": {},
   "outputs": [],
   "source": [
    "df = pd.read_csv(\"../materials/DATA/fake_reg.csv\")\n",
    "sns.pairplot(df)"
   ]
  },
  {
   "cell_type": "code",
   "execution_count": null,
   "metadata": {},
   "outputs": [],
   "source": [
    "x = df[[\"feature1\", \"feature2\"]]\n",
    "y = df[\"price\"]\n",
    "\n",
    "x_train, x_test, y_train, y_test =train_test_split(x, y, test_size=0.3, random_state=42)\n",
    "\n",
    "train_scaler = MinMaxScaler()\n",
    "train_scaler.fit(x_train)\n",
    "x_train = train_scaler.transform(x_train)\n",
    "\n",
    "test_scaler = MinMaxScaler()\n",
    "test_scaler.fit(x_test)\n",
    "x_test = test_scaler.transform(x_test)\n",
    "\n",
    "# no need to scale the output"
   ]
  },
  {
   "cell_type": "code",
   "execution_count": null,
   "metadata": {},
   "outputs": [],
   "source": [
    "model = Sequential()\n",
    "\n",
    "model.add(Dense(4))\n",
    "model.add(LeakyReLU(alpha=0.05))\n",
    "model.add(Dense(4))\n",
    "model.add(LeakyReLU(alpha=0.05))\n",
    "model.add(Dense(4))\n",
    "model.add(LeakyReLU(alpha=0.05))\n",
    "\n",
    "model.add(Dense(1))\n",
    "\n",
    "model.compile(optimizer=\"rmsprop\", loss=\"mse\")\n",
    "model.fit(x=x_train, y=y_train, epochs=250)"
   ]
  },
  {
   "cell_type": "code",
   "execution_count": null,
   "metadata": {},
   "outputs": [],
   "source": [
    "history = model.history.history\n",
    "history_df = pd.DataFrame(history)\n",
    "history_df.plot()"
   ]
  },
  {
   "cell_type": "code",
   "execution_count": null,
   "metadata": {},
   "outputs": [],
   "source": [
    "# get MSE for train and test sets\n",
    "model.evaluate(x_train, y_train), model.evaluate(x_test, y_test)"
   ]
  },
  {
   "cell_type": "code",
   "execution_count": null,
   "metadata": {},
   "outputs": [],
   "source": [
    "test_prediction = model.predict(x_test)\n",
    "predictions = pd.DataFrame({\"Y\": y_test, \"Y_hat\": test_prediction.reshape(-1)})\n",
    "\n",
    "print(\"mean abs error\", mean_absolute_error(predictions[\"Y\"], predictions[\"Y_hat\"]))\n",
    "print(\"mean squared error\", mean_squared_error(predictions[\"Y\"], predictions[\"Y_hat\"]))\n",
    "\n",
    "print(predictions.describe())\n",
    "\n",
    "sns.scatterplot(x=\"Y\", y=\"Y_hat\", data=predictions)"
   ]
  },
  {
   "cell_type": "code",
   "execution_count": null,
   "metadata": {},
   "outputs": [],
   "source": [
    "sns.displot(predictions[\"Y\"] - predictions[\"Y_hat\"], bins=50)"
   ]
  }
 ],
 "metadata": {
  "kernelspec": {
   "display_name": "tensorflow-py",
   "language": "python",
   "name": "python3"
  },
  "language_info": {
   "codemirror_mode": {
    "name": "ipython",
    "version": 3
   },
   "file_extension": ".py",
   "mimetype": "text/x-python",
   "name": "python",
   "nbconvert_exporter": "python",
   "pygments_lexer": "ipython3",
   "version": "3.11.3"
  }
 },
 "nbformat": 4,
 "nbformat_minor": 2
}
